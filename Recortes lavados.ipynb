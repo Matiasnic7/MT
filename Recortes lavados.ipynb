{
 "cells": [
  {
   "cell_type": "markdown",
   "id": "preliminary-billion",
   "metadata": {},
   "source": [
    "# Análisis Lavado de Gases KKK"
   ]
  },
  {
   "cell_type": "markdown",
   "id": "e420b8a0",
   "metadata": {},
   "source": [
    "En este notebook se implementa un algoritmo que\n",
    "- Identifica los escalones de lavados de gases desde el punto de vista de las variables del ventilador KKK\n",
    "- Recorta el inicio y fin del escalon de modo que captura solo la parte donde el ventilador esta activo (partida, regimen y parada)\n",
    "- Se analiza la parte de la senal donde la velocidad es contante para obtener un comportamiento historico del ventilador y para hallar eventuales quiebres en la tendencia.\n",
    "- Se separa la parada del ventilador y se cuantifica su decrecimmiento exponentecial"
   ]
  },
  {
   "cell_type": "markdown",
   "id": "ea0b1031",
   "metadata": {},
   "source": [
    "La tabla de análisis tiene las siguientes columnas\n",
    "- número de lavado (dentro del intervalo considerado)\n",
    "- tiempo de inicio y fin\n",
    "- duración\n",
    "Regimen\n",
    "- valor rpm\n",
    "- duracion regimen\n",
    "- promedio y varianza vibracion\n",
    "- promedio y flujo\n",
    "- valor final del nivel de vibracion en regimen (comienzo de las vibraciones libres)\n",
    "Parada\n",
    "- se genera un indicador entre rpm y amplitud vibratoria aun no definido representativo\n"
   ]
  },
  {
   "cell_type": "code",
   "execution_count": 1,
   "id": "southeast-gossip",
   "metadata": {},
   "outputs": [],
   "source": [
    "import pandas as pd\n",
    "import numpy as np\n",
    "import matplotlib.pyplot as plt\n",
    "import matplotlib.dates as mdates\n",
    "import datetime as dt\n",
    "import matplotlib.cm as cm\n",
    "from tqdm import tqdm"
   ]
  },
  {
   "cell_type": "code",
   "execution_count": 2,
   "id": "behind-oklahoma",
   "metadata": {},
   "outputs": [],
   "source": [
    "def ObtenerQuery(path_tag):\n",
    "    df_taglist = pd.read_excel(path_tag, usecols=range(0,1), engine = 'openpyxl')\n",
    "    query = df_taglist[df_taglist.columns[0]].values.tolist()\n",
    "    return query"
   ]
  },
  {
   "cell_type": "code",
   "execution_count": 3,
   "id": "82ee059f",
   "metadata": {},
   "outputs": [],
   "source": [
    "import pandas as pd\n",
    "\n",
    "import sys\n",
    "sys.path.insert(0, 'C:/Users/MLuser/Documents/Paquetes Python Desarrollados/')\n",
    "from tzchile.tzchile import reconocer_tz, TimestampChile, transformar_utc_a_tzchile, transformar_utc_a_tzchile_naive\n",
    "sys.path.insert(0, '')"
   ]
  },
  {
   "cell_type": "code",
   "execution_count": 23,
   "id": "played-mills",
   "metadata": {},
   "outputs": [],
   "source": [
    "def ActualizarListaTagsPI(query):\n",
    "    import pandas as pd\n",
    "    import PIconnect as PI\n",
    "    from PIconnect.PIConsts import CalculationBasis, SummaryType\n",
    "    #df_taglist = pd.read_excel(path_tag, usecols=range(0,1), engine = 'openpyxl')\n",
    "    #query = df_taglist.values.tolist()\n",
    "    df_tags = pd.DataFrame()\n",
    "#    with PI.PIServer() as server:\n",
    "    with PI.PIServer(server='192.168.62.43', username='dquezada', password='dquezada', authentication_mode=1, domain=None, timeout=None) as server:\n",
    "        tags = server.search(query)\n",
    "        for tag in tags:\n",
    "            try:\n",
    "                d = {'tag': tag.name, \n",
    "                     'description': tag.description, \n",
    "                     'uom': tag.units_of_measurement, \n",
    "                     'avg_1w': round(tag.summary('*-7d','*',SummaryType.AVERAGE, calculation_basis=CalculationBasis.EVENT_WEIGHTED).values[0][0],2),\n",
    "                     'count_h': int(1/(24*7)*tag.summary('*-7d','*',SummaryType.COUNT, calculation_basis=CalculationBasis.EVENT_WEIGHTED).values[0][0])\n",
    "                     }\n",
    "            except:\n",
    "                d = {'tag': tag.name, \n",
    "                     'description': tag.description, \n",
    "                     'uom': tag.units_of_measurement, \n",
    "                     'avg_1w': round(tag.summary('*-7d','*',SummaryType.AVERAGE, calculation_basis=CalculationBasis.TIME_WEIGHTED).values[0][0],2),\n",
    "                     'count_h': int(1/(24*7)*tag.summary('*-7d','*',SummaryType.COUNT, calculation_basis=CalculationBasis.EVENT_WEIGHTED).values[0][0])\n",
    "                     }\n",
    "            df_tags_temp = pd.DataFrame(data = d, index = [0])\n",
    "            df_tags = pd.concat([df_tags, df_tags_temp], ignore_index = True)\n",
    "            \n",
    "    return df_tags"
   ]
  },
  {
   "cell_type": "code",
   "execution_count": 24,
   "id": "radical-indicator",
   "metadata": {},
   "outputs": [],
   "source": [
    "def get_tag_name(tag_description, df_tags_info):\n",
    "    tag_name = df_tags_info.loc[df_tags_info['description'] == tag_description, 'tag'].iloc[0]\n",
    "    return tag_name"
   ]
  },
  {
   "cell_type": "markdown",
   "id": "b9be62e0",
   "metadata": {},
   "source": [
    "## Carga"
   ]
  },
  {
   "cell_type": "code",
   "execution_count": 25,
   "id": "banned-brain",
   "metadata": {},
   "outputs": [],
   "source": [
    "#path_tag = 'D:/BASES DE DATOS PI/taglist/taglist_horno_lbr_refractario.xlsx'\n",
    "path_tag = \"C:/Users/MLuser/Documents/analisis aumento de vibraciones kkk/taglist_init_kkk_vibraciones.xlsx\"\n",
    "\n",
    "#path_tag = 'C:/Users/MLuser/Documents/Datasets Fijos/20230128_analisis enfriamiento ah2/compiled/interpolated/5s/2019_12-2023_06.csv'\n",
    "#df_taglist = pd.read_excel(path_tag, usecols=range(0,1), engine = 'openpyxl')\n",
    "#df_taglist[df_taglist.columns[0]].values.tolist()"
   ]
  },
  {
   "cell_type": "code",
   "execution_count": 26,
   "id": "bigger-lawrence",
   "metadata": {},
   "outputs": [
    {
     "name": "stdout",
     "output_type": "stream",
     "text": [
      "['CVG.VDF_KKK_P_OUT', 'CVG.VDF_KKK_RPM', 'CVG.VT_112.1', 'CVG.VT_112.1_FILT', 'CVG.VT_112.2', 'CVG.VT_112.2_FILT', 'CVG.FT_053', 'CVG.M_VEL_1H', 'CVG.M_VEL_2H', 'CVG.M_VEL_3H', 'CVG.M_VEL_4H']\n"
     ]
    }
   ],
   "source": [
    "query = ObtenerQuery(path_tag)\n",
    "print(query)"
   ]
  },
  {
   "cell_type": "code",
   "execution_count": 22,
   "id": "italic-shirt",
   "metadata": {},
   "outputs": [
    {
     "data": {
      "text/html": [
       "<div>\n",
       "<style scoped>\n",
       "    .dataframe tbody tr th:only-of-type {\n",
       "        vertical-align: middle;\n",
       "    }\n",
       "\n",
       "    .dataframe tbody tr th {\n",
       "        vertical-align: top;\n",
       "    }\n",
       "\n",
       "    .dataframe thead th {\n",
       "        text-align: right;\n",
       "    }\n",
       "</style>\n",
       "<table border=\"1\" class=\"dataframe\">\n",
       "  <thead>\n",
       "    <tr style=\"text-align: right;\">\n",
       "      <th></th>\n",
       "      <th>tag</th>\n",
       "      <th>description</th>\n",
       "      <th>uom</th>\n",
       "      <th>avg_1w</th>\n",
       "      <th>count_h</th>\n",
       "    </tr>\n",
       "  </thead>\n",
       "  <tbody>\n",
       "    <tr>\n",
       "      <th>0</th>\n",
       "      <td>CVG.M_VEL_1H</td>\n",
       "      <td>Modulo de Velocidad Punto 1H Motor Lado Libre</td>\n",
       "      <td>mm/s</td>\n",
       "      <td>3.97</td>\n",
       "      <td>711</td>\n",
       "    </tr>\n",
       "  </tbody>\n",
       "</table>\n",
       "</div>"
      ],
      "text/plain": [
       "            tag                                    description   uom  avg_1w  \\\n",
       "0  CVG.M_VEL_1H  Modulo de Velocidad Punto 1H Motor Lado Libre  mm/s    3.97   \n",
       "\n",
       "   count_h  \n",
       "0      711  "
      ]
     },
     "execution_count": 22,
     "metadata": {},
     "output_type": "execute_result"
    }
   ],
   "source": [
    "df_tags2"
   ]
  },
  {
   "cell_type": "code",
   "execution_count": 11,
   "id": "detected-venezuela",
   "metadata": {},
   "outputs": [],
   "source": [
    "#path_data = 'C:/Users/MLuser/Documents/Datasets Fijos/20230128_analisis enfriamiento ah2/2022_52.csv'\n",
    "\n",
    "path_data = \"C:/Users/MLuser/Documents/analisis aumento de vibraciones kkk/data/2017_01-2023_11.csv\"\n",
    "length = pd.read_csv(path_data, usecols=[0])\n",
    "length = length.values.shape[0]"
   ]
  },
  {
   "cell_type": "code",
   "execution_count": 12,
   "id": "retained-thursday",
   "metadata": {},
   "outputs": [
    {
     "name": "stdout",
     "output_type": "stream",
     "text": [
      "39191364\n"
     ]
    }
   ],
   "source": [
    "print(length)"
   ]
  },
  {
   "cell_type": "code",
   "execution_count": 13,
   "id": "hungarian-prevention",
   "metadata": {},
   "outputs": [],
   "source": [
    "chunk_size = 10000\n",
    "total = np.ceil(length/chunk_size)"
   ]
  },
  {
   "cell_type": "code",
   "execution_count": 14,
   "id": "blind-pension",
   "metadata": {},
   "outputs": [],
   "source": [
    "df_chunks = pd.read_csv(path_data, chunksize = chunk_size)"
   ]
  },
  {
   "cell_type": "code",
   "execution_count": null,
   "id": "funky-corruption",
   "metadata": {},
   "outputs": [],
   "source": [
    "df = pd.DataFrame()\n",
    "pbar = tqdm(total=total)\n",
    "for chunk in df_chunks:\n",
    "    chunk['Timestamp'] = pd.to_datetime(chunk['Timestamp'], errors = 'coerce')\n",
    "    chunk.set_index('Timestamp', inplace = True)\n",
    "    #chunk.index = chunk.index.map(lambda x: x.replace(tzinfo = None))\n",
    "#    chunk.index = chunk.index.map(lambda x: transformar_utc_a_tzchile_naive(x))\n",
    "    df = pd.concat([df,chunk])\n",
    "    pbar.update(1)"
   ]
  },
  {
   "cell_type": "code",
   "execution_count": null,
   "id": "digital-cigarette",
   "metadata": {},
   "outputs": [],
   "source": [
    "pbar.clear()\n",
    "pbar.close()"
   ]
  },
  {
   "cell_type": "code",
   "execution_count": 261,
   "id": "generic-secretary",
   "metadata": {},
   "outputs": [
    {
     "data": {
      "text/html": [
       "<div>\n",
       "<style scoped>\n",
       "    .dataframe tbody tr th:only-of-type {\n",
       "        vertical-align: middle;\n",
       "    }\n",
       "\n",
       "    .dataframe tbody tr th {\n",
       "        vertical-align: top;\n",
       "    }\n",
       "\n",
       "    .dataframe thead th {\n",
       "        text-align: right;\n",
       "    }\n",
       "</style>\n",
       "<table border=\"1\" class=\"dataframe\">\n",
       "  <thead>\n",
       "    <tr style=\"text-align: right;\">\n",
       "      <th></th>\n",
       "      <th>CVG.VDF_KKK_P_OUT</th>\n",
       "      <th>CVG.VDF_KKK_RPM</th>\n",
       "      <th>CVG.VT_112.1</th>\n",
       "      <th>CVG.VT_112.1_FILT</th>\n",
       "      <th>CVG.VT_112.2</th>\n",
       "      <th>CVG.VT_112.2_FILT</th>\n",
       "      <th>CVG.FT_053</th>\n",
       "      <th>CVG.M_VEL_1H</th>\n",
       "      <th>CVG.M_VEL_2H</th>\n",
       "      <th>CVG.M_VEL_3H</th>\n",
       "      <th>CVG.M_VEL_4H</th>\n",
       "    </tr>\n",
       "    <tr>\n",
       "      <th>Timestamp</th>\n",
       "      <th></th>\n",
       "      <th></th>\n",
       "      <th></th>\n",
       "      <th></th>\n",
       "      <th></th>\n",
       "      <th></th>\n",
       "      <th></th>\n",
       "      <th></th>\n",
       "      <th></th>\n",
       "      <th></th>\n",
       "      <th></th>\n",
       "    </tr>\n",
       "  </thead>\n",
       "  <tbody>\n",
       "    <tr>\n",
       "      <th>2019-05-06 13:53:20</th>\n",
       "      <td>1599</td>\n",
       "      <td>1485</td>\n",
       "      <td>12.7097</td>\n",
       "      <td>No Data</td>\n",
       "      <td>7.61556</td>\n",
       "      <td>No Data</td>\n",
       "      <td>175995</td>\n",
       "      <td>20.93799</td>\n",
       "      <td>1.0506</td>\n",
       "      <td>Over Range</td>\n",
       "      <td>2.04398</td>\n",
       "    </tr>\n",
       "    <tr>\n",
       "      <th>2019-05-06 13:53:25</th>\n",
       "      <td>1587</td>\n",
       "      <td>1485</td>\n",
       "      <td>13.5906</td>\n",
       "      <td>No Data</td>\n",
       "      <td>8.13891</td>\n",
       "      <td>No Data</td>\n",
       "      <td>173060</td>\n",
       "      <td>20.93799</td>\n",
       "      <td>1.0506</td>\n",
       "      <td>Over Range</td>\n",
       "      <td>2.04398</td>\n",
       "    </tr>\n",
       "    <tr>\n",
       "      <th>2019-05-06 13:53:30</th>\n",
       "      <td>1564</td>\n",
       "      <td>1485</td>\n",
       "      <td>12.7481</td>\n",
       "      <td>No Data</td>\n",
       "      <td>7.8126</td>\n",
       "      <td>No Data</td>\n",
       "      <td>169116</td>\n",
       "      <td>10.27352</td>\n",
       "      <td>0.971028</td>\n",
       "      <td>Over Range</td>\n",
       "      <td>1.95062</td>\n",
       "    </tr>\n",
       "    <tr>\n",
       "      <th>2019-05-06 13:53:35</th>\n",
       "      <td>1542</td>\n",
       "      <td>1485</td>\n",
       "      <td>12.7562</td>\n",
       "      <td>No Data</td>\n",
       "      <td>7.83267</td>\n",
       "      <td>No Data</td>\n",
       "      <td>165174</td>\n",
       "      <td>7.951598</td>\n",
       "      <td>0.953703</td>\n",
       "      <td>Over Range</td>\n",
       "      <td>1.9303</td>\n",
       "    </tr>\n",
       "    <tr>\n",
       "      <th>2019-05-06 13:53:40</th>\n",
       "      <td>1526</td>\n",
       "      <td>1485</td>\n",
       "      <td>12.501</td>\n",
       "      <td>No Data</td>\n",
       "      <td>7.80387</td>\n",
       "      <td>No Data</td>\n",
       "      <td>161231</td>\n",
       "      <td>7.951598</td>\n",
       "      <td>0.953703</td>\n",
       "      <td>Over Range</td>\n",
       "      <td>1.9303</td>\n",
       "    </tr>\n",
       "    <tr>\n",
       "      <th>...</th>\n",
       "      <td>...</td>\n",
       "      <td>...</td>\n",
       "      <td>...</td>\n",
       "      <td>...</td>\n",
       "      <td>...</td>\n",
       "      <td>...</td>\n",
       "      <td>...</td>\n",
       "      <td>...</td>\n",
       "      <td>...</td>\n",
       "      <td>...</td>\n",
       "      <td>...</td>\n",
       "    </tr>\n",
       "    <tr>\n",
       "      <th>2023-03-19 23:59:40</th>\n",
       "      <td>No Data</td>\n",
       "      <td>No Data</td>\n",
       "      <td>No Data</td>\n",
       "      <td>No Data</td>\n",
       "      <td>No Data</td>\n",
       "      <td>No Data</td>\n",
       "      <td>No Data</td>\n",
       "      <td>No Data</td>\n",
       "      <td>No Data</td>\n",
       "      <td>No Data</td>\n",
       "      <td>No Data</td>\n",
       "    </tr>\n",
       "    <tr>\n",
       "      <th>2023-03-19 23:59:45</th>\n",
       "      <td>No Data</td>\n",
       "      <td>No Data</td>\n",
       "      <td>No Data</td>\n",
       "      <td>No Data</td>\n",
       "      <td>No Data</td>\n",
       "      <td>No Data</td>\n",
       "      <td>No Data</td>\n",
       "      <td>No Data</td>\n",
       "      <td>No Data</td>\n",
       "      <td>No Data</td>\n",
       "      <td>No Data</td>\n",
       "    </tr>\n",
       "    <tr>\n",
       "      <th>2023-03-19 23:59:50</th>\n",
       "      <td>No Data</td>\n",
       "      <td>No Data</td>\n",
       "      <td>No Data</td>\n",
       "      <td>No Data</td>\n",
       "      <td>No Data</td>\n",
       "      <td>No Data</td>\n",
       "      <td>No Data</td>\n",
       "      <td>No Data</td>\n",
       "      <td>No Data</td>\n",
       "      <td>No Data</td>\n",
       "      <td>No Data</td>\n",
       "    </tr>\n",
       "    <tr>\n",
       "      <th>2023-03-19 23:59:55</th>\n",
       "      <td>No Data</td>\n",
       "      <td>No Data</td>\n",
       "      <td>No Data</td>\n",
       "      <td>No Data</td>\n",
       "      <td>No Data</td>\n",
       "      <td>No Data</td>\n",
       "      <td>No Data</td>\n",
       "      <td>No Data</td>\n",
       "      <td>No Data</td>\n",
       "      <td>No Data</td>\n",
       "      <td>No Data</td>\n",
       "    </tr>\n",
       "    <tr>\n",
       "      <th>2023-03-20 00:00:00</th>\n",
       "      <td>No Data</td>\n",
       "      <td>No Data</td>\n",
       "      <td>No Data</td>\n",
       "      <td>No Data</td>\n",
       "      <td>No Data</td>\n",
       "      <td>No Data</td>\n",
       "      <td>No Data</td>\n",
       "      <td>No Data</td>\n",
       "      <td>No Data</td>\n",
       "      <td>No Data</td>\n",
       "      <td>No Data</td>\n",
       "    </tr>\n",
       "  </tbody>\n",
       "</table>\n",
       "<p>24423402 rows × 11 columns</p>\n",
       "</div>"
      ],
      "text/plain": [
       "                    CVG.VDF_KKK_P_OUT CVG.VDF_KKK_RPM CVG.VT_112.1  \\\n",
       "Timestamp                                                            \n",
       "2019-05-06 13:53:20              1599            1485      12.7097   \n",
       "2019-05-06 13:53:25              1587            1485      13.5906   \n",
       "2019-05-06 13:53:30              1564            1485      12.7481   \n",
       "2019-05-06 13:53:35              1542            1485      12.7562   \n",
       "2019-05-06 13:53:40              1526            1485       12.501   \n",
       "...                               ...             ...          ...   \n",
       "2023-03-19 23:59:40           No Data         No Data      No Data   \n",
       "2023-03-19 23:59:45           No Data         No Data      No Data   \n",
       "2023-03-19 23:59:50           No Data         No Data      No Data   \n",
       "2023-03-19 23:59:55           No Data         No Data      No Data   \n",
       "2023-03-20 00:00:00           No Data         No Data      No Data   \n",
       "\n",
       "                    CVG.VT_112.1_FILT CVG.VT_112.2 CVG.VT_112.2_FILT  \\\n",
       "Timestamp                                                              \n",
       "2019-05-06 13:53:20           No Data      7.61556           No Data   \n",
       "2019-05-06 13:53:25           No Data      8.13891           No Data   \n",
       "2019-05-06 13:53:30           No Data       7.8126           No Data   \n",
       "2019-05-06 13:53:35           No Data      7.83267           No Data   \n",
       "2019-05-06 13:53:40           No Data      7.80387           No Data   \n",
       "...                               ...          ...               ...   \n",
       "2023-03-19 23:59:40           No Data      No Data           No Data   \n",
       "2023-03-19 23:59:45           No Data      No Data           No Data   \n",
       "2023-03-19 23:59:50           No Data      No Data           No Data   \n",
       "2023-03-19 23:59:55           No Data      No Data           No Data   \n",
       "2023-03-20 00:00:00           No Data      No Data           No Data   \n",
       "\n",
       "                    CVG.FT_053 CVG.M_VEL_1H CVG.M_VEL_2H CVG.M_VEL_3H  \\\n",
       "Timestamp                                                               \n",
       "2019-05-06 13:53:20     175995     20.93799       1.0506   Over Range   \n",
       "2019-05-06 13:53:25     173060     20.93799       1.0506   Over Range   \n",
       "2019-05-06 13:53:30     169116     10.27352     0.971028   Over Range   \n",
       "2019-05-06 13:53:35     165174     7.951598     0.953703   Over Range   \n",
       "2019-05-06 13:53:40     161231     7.951598     0.953703   Over Range   \n",
       "...                        ...          ...          ...          ...   \n",
       "2023-03-19 23:59:40    No Data      No Data      No Data      No Data   \n",
       "2023-03-19 23:59:45    No Data      No Data      No Data      No Data   \n",
       "2023-03-19 23:59:50    No Data      No Data      No Data      No Data   \n",
       "2023-03-19 23:59:55    No Data      No Data      No Data      No Data   \n",
       "2023-03-20 00:00:00    No Data      No Data      No Data      No Data   \n",
       "\n",
       "                    CVG.M_VEL_4H  \n",
       "Timestamp                         \n",
       "2019-05-06 13:53:20      2.04398  \n",
       "2019-05-06 13:53:25      2.04398  \n",
       "2019-05-06 13:53:30      1.95062  \n",
       "2019-05-06 13:53:35       1.9303  \n",
       "2019-05-06 13:53:40       1.9303  \n",
       "...                          ...  \n",
       "2023-03-19 23:59:40      No Data  \n",
       "2023-03-19 23:59:45      No Data  \n",
       "2023-03-19 23:59:50      No Data  \n",
       "2023-03-19 23:59:55      No Data  \n",
       "2023-03-20 00:00:00      No Data  \n",
       "\n",
       "[24423402 rows x 11 columns]"
      ]
     },
     "execution_count": 261,
     "metadata": {},
     "output_type": "execute_result"
    }
   ],
   "source": [
    "df"
   ]
  },
  {
   "cell_type": "code",
   "execution_count": 262,
   "id": "d14a2036",
   "metadata": {},
   "outputs": [],
   "source": [
    "for column in df.columns:\n",
    "    df[column] = pd.to_numeric(df[column], errors = 'coerce')"
   ]
  },
  {
   "cell_type": "code",
   "execution_count": 263,
   "id": "ffb93ffd",
   "metadata": {},
   "outputs": [
    {
     "data": {
      "text/html": [
       "<div>\n",
       "<style scoped>\n",
       "    .dataframe tbody tr th:only-of-type {\n",
       "        vertical-align: middle;\n",
       "    }\n",
       "\n",
       "    .dataframe tbody tr th {\n",
       "        vertical-align: top;\n",
       "    }\n",
       "\n",
       "    .dataframe thead th {\n",
       "        text-align: right;\n",
       "    }\n",
       "</style>\n",
       "<table border=\"1\" class=\"dataframe\">\n",
       "  <thead>\n",
       "    <tr style=\"text-align: right;\">\n",
       "      <th></th>\n",
       "      <th>CVG.VDF_KKK_P_OUT</th>\n",
       "      <th>CVG.VDF_KKK_RPM</th>\n",
       "      <th>CVG.VT_112.1</th>\n",
       "      <th>CVG.VT_112.1_FILT</th>\n",
       "      <th>CVG.VT_112.2</th>\n",
       "      <th>CVG.VT_112.2_FILT</th>\n",
       "      <th>CVG.FT_053</th>\n",
       "      <th>CVG.M_VEL_1H</th>\n",
       "      <th>CVG.M_VEL_2H</th>\n",
       "      <th>CVG.M_VEL_3H</th>\n",
       "      <th>CVG.M_VEL_4H</th>\n",
       "      <th>Timedelta</th>\n",
       "      <th>Inicio Lavado</th>\n",
       "      <th>Nro Lavado</th>\n",
       "    </tr>\n",
       "    <tr>\n",
       "      <th>Timestamp</th>\n",
       "      <th></th>\n",
       "      <th></th>\n",
       "      <th></th>\n",
       "      <th></th>\n",
       "      <th></th>\n",
       "      <th></th>\n",
       "      <th></th>\n",
       "      <th></th>\n",
       "      <th></th>\n",
       "      <th></th>\n",
       "      <th></th>\n",
       "      <th></th>\n",
       "      <th></th>\n",
       "      <th></th>\n",
       "    </tr>\n",
       "  </thead>\n",
       "  <tbody>\n",
       "    <tr>\n",
       "      <th>2019-05-06 13:53:20</th>\n",
       "      <td>1599.0</td>\n",
       "      <td>1485.0</td>\n",
       "      <td>12.70968</td>\n",
       "      <td>NaN</td>\n",
       "      <td>7.615560</td>\n",
       "      <td>NaN</td>\n",
       "      <td>175995.2</td>\n",
       "      <td>20.937990</td>\n",
       "      <td>1.050600</td>\n",
       "      <td>NaN</td>\n",
       "      <td>2.043977</td>\n",
       "      <td>NaN</td>\n",
       "      <td>False</td>\n",
       "      <td>0</td>\n",
       "    </tr>\n",
       "    <tr>\n",
       "      <th>2019-05-06 13:53:25</th>\n",
       "      <td>1587.0</td>\n",
       "      <td>1485.0</td>\n",
       "      <td>13.59061</td>\n",
       "      <td>NaN</td>\n",
       "      <td>8.138913</td>\n",
       "      <td>NaN</td>\n",
       "      <td>173059.5</td>\n",
       "      <td>20.937990</td>\n",
       "      <td>1.050600</td>\n",
       "      <td>NaN</td>\n",
       "      <td>2.043977</td>\n",
       "      <td>5.0</td>\n",
       "      <td>False</td>\n",
       "      <td>0</td>\n",
       "    </tr>\n",
       "    <tr>\n",
       "      <th>2019-05-06 13:53:30</th>\n",
       "      <td>1564.0</td>\n",
       "      <td>1485.0</td>\n",
       "      <td>12.74806</td>\n",
       "      <td>NaN</td>\n",
       "      <td>7.812604</td>\n",
       "      <td>NaN</td>\n",
       "      <td>169116.5</td>\n",
       "      <td>10.273520</td>\n",
       "      <td>0.971028</td>\n",
       "      <td>NaN</td>\n",
       "      <td>1.950622</td>\n",
       "      <td>5.0</td>\n",
       "      <td>False</td>\n",
       "      <td>0</td>\n",
       "    </tr>\n",
       "    <tr>\n",
       "      <th>2019-05-06 13:53:35</th>\n",
       "      <td>1542.0</td>\n",
       "      <td>1485.0</td>\n",
       "      <td>12.75624</td>\n",
       "      <td>NaN</td>\n",
       "      <td>7.832674</td>\n",
       "      <td>NaN</td>\n",
       "      <td>165173.5</td>\n",
       "      <td>7.951598</td>\n",
       "      <td>0.953703</td>\n",
       "      <td>NaN</td>\n",
       "      <td>1.930296</td>\n",
       "      <td>5.0</td>\n",
       "      <td>False</td>\n",
       "      <td>0</td>\n",
       "    </tr>\n",
       "    <tr>\n",
       "      <th>2019-05-06 13:53:40</th>\n",
       "      <td>1526.0</td>\n",
       "      <td>1485.0</td>\n",
       "      <td>12.50101</td>\n",
       "      <td>NaN</td>\n",
       "      <td>7.803867</td>\n",
       "      <td>NaN</td>\n",
       "      <td>161230.6</td>\n",
       "      <td>7.951598</td>\n",
       "      <td>0.953703</td>\n",
       "      <td>NaN</td>\n",
       "      <td>1.930296</td>\n",
       "      <td>5.0</td>\n",
       "      <td>False</td>\n",
       "      <td>0</td>\n",
       "    </tr>\n",
       "  </tbody>\n",
       "</table>\n",
       "</div>"
      ],
      "text/plain": [
       "                     CVG.VDF_KKK_P_OUT  CVG.VDF_KKK_RPM  CVG.VT_112.1  \\\n",
       "Timestamp                                                               \n",
       "2019-05-06 13:53:20             1599.0           1485.0      12.70968   \n",
       "2019-05-06 13:53:25             1587.0           1485.0      13.59061   \n",
       "2019-05-06 13:53:30             1564.0           1485.0      12.74806   \n",
       "2019-05-06 13:53:35             1542.0           1485.0      12.75624   \n",
       "2019-05-06 13:53:40             1526.0           1485.0      12.50101   \n",
       "\n",
       "                     CVG.VT_112.1_FILT  CVG.VT_112.2  CVG.VT_112.2_FILT  \\\n",
       "Timestamp                                                                 \n",
       "2019-05-06 13:53:20                NaN      7.615560                NaN   \n",
       "2019-05-06 13:53:25                NaN      8.138913                NaN   \n",
       "2019-05-06 13:53:30                NaN      7.812604                NaN   \n",
       "2019-05-06 13:53:35                NaN      7.832674                NaN   \n",
       "2019-05-06 13:53:40                NaN      7.803867                NaN   \n",
       "\n",
       "                     CVG.FT_053  CVG.M_VEL_1H  CVG.M_VEL_2H  CVG.M_VEL_3H  \\\n",
       "Timestamp                                                                   \n",
       "2019-05-06 13:53:20    175995.2     20.937990      1.050600           NaN   \n",
       "2019-05-06 13:53:25    173059.5     20.937990      1.050600           NaN   \n",
       "2019-05-06 13:53:30    169116.5     10.273520      0.971028           NaN   \n",
       "2019-05-06 13:53:35    165173.5      7.951598      0.953703           NaN   \n",
       "2019-05-06 13:53:40    161230.6      7.951598      0.953703           NaN   \n",
       "\n",
       "                     CVG.M_VEL_4H  Timedelta  Inicio Lavado  Nro Lavado  \n",
       "Timestamp                                                                \n",
       "2019-05-06 13:53:20      2.043977        NaN          False           0  \n",
       "2019-05-06 13:53:25      2.043977        5.0          False           0  \n",
       "2019-05-06 13:53:30      1.950622        5.0          False           0  \n",
       "2019-05-06 13:53:35      1.930296        5.0          False           0  \n",
       "2019-05-06 13:53:40      1.930296        5.0          False           0  "
      ]
     },
     "execution_count": 263,
     "metadata": {},
     "output_type": "execute_result"
    }
   ],
   "source": [
    "df2 = pd.DataFrame(df.loc[df['CVG.VDF_KKK_RPM'] > 120])\n",
    "df2['Timedelta'] = [np.nan] + list(df2.index.values[1:] - df2.index.values[0:-1])\n",
    "df2['Timedelta'] = df2['Timedelta'].apply(lambda x: x.seconds)\n",
    "\n",
    "df2['Inicio Lavado']  = (df2['Timedelta'] > 60)\n",
    "df2['Nro Lavado'] = df2['Inicio Lavado'].cumsum()\n",
    "df2.head(5)"
   ]
  },
  {
   "cell_type": "markdown",
   "id": "thousand-kruger",
   "metadata": {},
   "source": [
    "## Acumulación de los lavados en el tiempo"
   ]
  },
  {
   "cell_type": "code",
   "execution_count": 264,
   "id": "7068fb3e",
   "metadata": {},
   "outputs": [
    {
     "data": {
      "image/png": "[encoded data removed]",
      "text/plain": [
       "<Figure size 648x432 with 1 Axes>"
      ]
     },
     "metadata": {
      "needs_background": "light"
     },
     "output_type": "display_data"
    }
   ],
   "source": [
    "fig = plt.figure(figsize=(9,6))\n",
    "plt.title(f'Lavados Acumulados', fontsize=16)\n",
    "plt.plot(df2['Nro Lavado'], color='red', marker = '')\n",
    "plt.xlabel('Fecha', fontsize=16)\n",
    "plt.ylabel('#', fontsize=16)\n",
    "plt.grid()\n",
    "plt.show()"
   ]
  },
  {
   "cell_type": "markdown",
   "id": "010c8049",
   "metadata": {},
   "source": [
    "### Visualización de un perfil de lavado específico"
   ]
  },
  {
   "cell_type": "markdown",
   "id": "iraqi-august",
   "metadata": {},
   "source": [
    "Un perfil de lavado tiene \n",
    "\n",
    "- Una partida rápidado\n",
    "- Un estado de regimen dond e"
   ]
  },
  {
   "cell_type": "code",
   "execution_count": 266,
   "id": "5d9c53cf",
   "metadata": {},
   "outputs": [],
   "source": [
    "#n_perfil = 5501\n",
    "#tag_selected = 'AH2.PI_LT_SN2'\n",
    "#tag_selected_2 = 'AH2.PI_LT_SS2'\n",
    "#perfil_series = df2.loc[df2['Nro Carga'] == n_perfil, tag_selected].iloc[10:-10]\n",
    "#perfil_series_2 = df2.loc[df2['Nro Carga'] == n_perfil, tag_selected_2].iloc[10:-10]\n",
    "#date_selected_start = str(df2.loc[df2['Nro Carga'] == n_perfil].index.min())\n",
    "#date_selected_finish = str(df2.loc[df2['Nro Carga'] == n_perfil].index.max())"
   ]
  },
  {
   "cell_type": "code",
   "execution_count": 294,
   "id": "uniform-burke",
   "metadata": {},
   "outputs": [],
   "source": [
    "from tqdm import tqdm\n",
    "\n",
    "lista_lavados = list(pd.unique(df2['Nro Lavado']))#[-100:]#[1:-1]#[-8000:]\n",
    "tag_selected = 'CVG.VT_112.1'\n",
    "tag_selected_2 = 'CVG.VDF_KKK_RPM'\n",
    "tag_selected_3 = 'CVG.FT_053'\n",
    "lista_tuples_lavados = []"
   ]
  },
  {
   "cell_type": "code",
   "execution_count": null,
   "id": "beautiful-certification",
   "metadata": {},
   "outputs": [],
   "source": [
    "import scipy.stats"
   ]
  },
  {
   "cell_type": "code",
   "execution_count": null,
   "id": "handmade-wrapping",
   "metadata": {},
   "outputs": [
    {
     "name": "stderr",
     "output_type": "stream",
     "text": [
      "  1%|▋                                                                           | 301/31580 [01:42<3:02:37,  2.85it/s]"
     ]
    }
   ],
   "source": [
    "for i in tqdm(range(len(lista_lavados))):\n",
    "    n_lavado = lista_lavados[i]\n",
    "    try:\n",
    "\n",
    "        duracion_timestamp = (df2.loc[df2['Nro Lavado'] == n_lavado].index.max() - df2.loc[df2['Nro Lavado'] == n_lavado].index.min()).seconds*1/60\n",
    "\n",
    "        perfil_series = df2.loc[df2['Nro Lavado'] == n_lavado, tag_selected]#.iloc[10:-10]\n",
    "        perfil_series_2 = df2.loc[df2['Nro Lavado'] == n_lavado, tag_selected_2]#.iloc[10:-10]\n",
    "        perfil_series_3 = df2.loc[df2['Nro Lavado'] == n_lavado, tag_selected_3]#.iloc[10:-10]    \n",
    "\n",
    "        date_selected_start = str(df2.loc[df2['Nro Lavado'] == n_lavado].index.min())\n",
    "        date_selected_finish = str(df2.loc[df2['Nro Lavado'] == n_lavado].index.max())\n",
    "\n",
    "        rpm_perfil = perfil_series_2.mode().iloc[0]\n",
    "\n",
    "        df_reg_perfil = df2.loc[(df2['Nro Lavado'] == n_lavado)&(df2['CVG.VDF_KKK_RPM'] == rpm_perfil)].copy()\n",
    "        t_reg_1 = df_reg_perfil.index[0]\n",
    "        t_reg_2 = df_reg_perfil.index[-1]\n",
    "\n",
    "        date_selected_on = str(t_reg_1)\n",
    "        date_selected_off = str(t_reg_2)\n",
    "\n",
    "        vib_1_mean = df_reg_perfil['CVG.VT_112.1'].mean()\n",
    "        vib_1_std = df_reg_perfil['CVG.VT_112.1'].std()\n",
    "        vib_2_mean = df_reg_perfil['CVG.VT_112.2'].mean()\n",
    "        vib_2_std = df_reg_perfil['CVG.VT_112.2'].std()\n",
    "\n",
    "        vib_1h_mean = df_reg_perfil['CVG.M_VEL_1H'].mean()\n",
    "        vib_1h_std = df_reg_perfil['CVG.M_VEL_1H'].std()\n",
    "        vib_2h_mean = df_reg_perfil['CVG.M_VEL_2H'].mean()\n",
    "        vib_2h_std = df_reg_perfil['CVG.M_VEL_2H'].std()\n",
    "        vib_3h_mean = df_reg_perfil['CVG.M_VEL_3H'].mean()\n",
    "        vib_3h_std = df_reg_perfil['CVG.M_VEL_3H'].std()        \n",
    "        vib_4h_mean = df_reg_perfil['CVG.M_VEL_4H'].mean()\n",
    "        vib_4h_std = df_reg_perfil['CVG.M_VEL_4H'].std()\n",
    "        \n",
    "        \n",
    "        flow_mean = df_reg_perfil['CVG.FT_053'].mean()\n",
    "        flow_std = df_reg_perfil['CVG.FT_053'].std()\n",
    "\n",
    "        perfil_parada = df2.loc[(df2['Nro Lavado'] == n_lavado)&(df2.index > t_reg_2), tag_selected]\n",
    "        perfil_parada_2 = df2.loc[(df2['Nro Lavado'] == n_lavado)&(df2.index > t_reg_2), tag_selected_2]\n",
    "\n",
    "        x_n = 18/60*perfil_parada_2.values\n",
    "        y_n = perfil_parada.values\n",
    "\n",
    "        poly, residuals, rank, singular_values, rcond = np.polyfit(x_n, y_n, deg=2, full = True)\n",
    "        y_int = [np.polyval(poly,elem) for elem in x_n]\n",
    "        perfil_calculado = pd.Series(y_int, index = perfil_parada.index)\n",
    "        slope, intercept, r_value, p_value, std_err = scipy.stats.linregress(perfil_parada.values, perfil_calculado.values)\n",
    "\n",
    "        list_n = tuple([n_lavado, date_selected_start, date_selected_on, date_selected_off, date_selected_finish, duracion_timestamp,rpm_perfil,vib_1_mean,vib_2_mean,vib_1h_mean,vib_2h_mean,vib_3h_mean,vib_4h_mean,flow_mean,vib_1_std,vib_2_std,vib_1h_std,vib_2h_std,vib_3h_std,vib_4h_std,flow_std,slope, intercept, r_value, p_value, std_err] + list(poly))\n",
    "    #        perfil_series_2 = df2.loc[df2['Nro Lavado'] == n_lavado, tag_selected_2].iloc[10:-10]\n",
    "    #        x_n_2 = np.arange(0,5*len(perfil_series_2)/60,5/60)\n",
    "    #        y_n_2 = perfil_series_2.values\n",
    "    #        poly_2, residuals_2, rank_2, singular_values_2, rcond_2 = np.polyfit(x_n_2, y_n_2, deg=2, full = True)\n",
    "    #        y_int_2 = [np.polyval(poly_2,elem) for elem in x_n_2]\n",
    "    #        perfil_calculado_2 = pd.Series(y_int_2, index = perfil_series_2.index)\n",
    "    #        slope_2, intercept_2, r_value_2, p_value_2, std_err_2 = scipy.stats.linregress(perfil_series_2.values, perfil_calculado_2.values)\n",
    "    #        poly2_2 = np.polyder(poly_2, m = 2)\n",
    "    #        list_n_2 = tuple(list(poly_2) + [r_value_2, std_err_2] +  list(poly2_2))\n",
    "        tuple_n = tuple(list_n)\n",
    "        lista_tuples_lavados.append(tuple_n)\n",
    "    except:\n",
    "        pass"
   ]
  },
  {
   "cell_type": "code",
   "execution_count": 141,
   "id": "postal-intranet",
   "metadata": {},
   "outputs": [
    {
     "data": {
      "text/plain": [
       "[31508,\n",
       " '2023-03-10 16:10:45',\n",
       " '2023-03-10 16:12:00',\n",
       " '2023-03-10 16:15:15',\n",
       " '2023-03-10 16:19:35',\n",
       " 8.833333333333334,\n",
       " 23.7298015,\n",
       " 16.00210625,\n",
       " 202355.33500000002,\n",
       " 0.387837525415952,\n",
       " 0.3006597426488613,\n",
       " 1044.0164367873024,\n",
       " 0.9676927359752425,\n",
       " 0.34280201725434445,\n",
       " 0.9837137469687216,\n",
       " 6.160856693637127e-39,\n",
       " 0.02500540130291555]"
      ]
     },
     "execution_count": 141,
     "metadata": {},
     "output_type": "execute_result"
    }
   ],
   "source": [
    "[n_lavado, date_selected_start, date_selected_on, date_selected_off, date_selected_finish, duracion_timestamp,vib_1_mean,vib_2_mean,flow_mean,vib_1_std,vib_2_std,flow_std,slope, intercept, r_value, p_value, std_err]"
   ]
  },
  {
   "cell_type": "code",
   "execution_count": null,
   "id": "solved-video",
   "metadata": {},
   "outputs": [],
   "source": [
    "df2"
   ]
  },
  {
   "cell_type": "code",
   "execution_count": 142,
   "id": "adult-identification",
   "metadata": {},
   "outputs": [
    {
     "data": {
      "text/plain": [
       "[0.00030968597545614606, -0.10842499262430971, 13.118711187351511]"
      ]
     },
     "execution_count": 142,
     "metadata": {},
     "output_type": "execute_result"
    }
   ],
   "source": [
    "list(poly)"
   ]
  },
  {
   "cell_type": "markdown",
   "id": "ranking-aquatic",
   "metadata": {},
   "source": [
    "Consultas\n",
    "\n",
    "- La velocidad de regimen siempre ha sido constante 1450???\n",
    "- En que lugar se encuentra la frecuencia de la fuerza de excitación con respecto a "
   ]
  },
  {
   "cell_type": "code",
   "execution_count": 272,
   "id": "polished-antenna",
   "metadata": {},
   "outputs": [
    {
     "data": {
      "text/html": [
       "<div>\n",
       "<style scoped>\n",
       "    .dataframe tbody tr th:only-of-type {\n",
       "        vertical-align: middle;\n",
       "    }\n",
       "\n",
       "    .dataframe tbody tr th {\n",
       "        vertical-align: top;\n",
       "    }\n",
       "\n",
       "    .dataframe thead th {\n",
       "        text-align: right;\n",
       "    }\n",
       "</style>\n",
       "<table border=\"1\" class=\"dataframe\">\n",
       "  <thead>\n",
       "    <tr style=\"text-align: right;\">\n",
       "      <th></th>\n",
       "      <th>n_lavado</th>\n",
       "      <th>date_selected_start</th>\n",
       "      <th>date_selected_on</th>\n",
       "      <th>date_selected_off</th>\n",
       "      <th>date_selected_finish</th>\n",
       "      <th>duracion_timestamp</th>\n",
       "      <th>rpm_perfil</th>\n",
       "      <th>vib_1_mean</th>\n",
       "      <th>vib_2_mean</th>\n",
       "      <th>vib_1h_mean</th>\n",
       "      <th>...</th>\n",
       "      <th>vib_4h_std</th>\n",
       "      <th>flow_std</th>\n",
       "      <th>slope</th>\n",
       "      <th>intercept</th>\n",
       "      <th>r_value</th>\n",
       "      <th>p_value</th>\n",
       "      <th>std_err</th>\n",
       "      <th>a2</th>\n",
       "      <th>a1</th>\n",
       "      <th>a0</th>\n",
       "    </tr>\n",
       "    <tr>\n",
       "      <th>date_selected_start</th>\n",
       "      <th></th>\n",
       "      <th></th>\n",
       "      <th></th>\n",
       "      <th></th>\n",
       "      <th></th>\n",
       "      <th></th>\n",
       "      <th></th>\n",
       "      <th></th>\n",
       "      <th></th>\n",
       "      <th></th>\n",
       "      <th></th>\n",
       "      <th></th>\n",
       "      <th></th>\n",
       "      <th></th>\n",
       "      <th></th>\n",
       "      <th></th>\n",
       "      <th></th>\n",
       "      <th></th>\n",
       "      <th></th>\n",
       "      <th></th>\n",
       "      <th></th>\n",
       "    </tr>\n",
       "  </thead>\n",
       "  <tbody>\n",
       "    <tr>\n",
       "      <th>2019-05-06 13:53:20</th>\n",
       "      <td>0</td>\n",
       "      <td>2019-05-06 13:53:20</td>\n",
       "      <td>2019-05-06 13:53:20</td>\n",
       "      <td>2019-05-06 14:27:35</td>\n",
       "      <td>2019-05-06 14:33:25</td>\n",
       "      <td>40.083333</td>\n",
       "      <td>1485.0</td>\n",
       "      <td>12.331561</td>\n",
       "      <td>7.527151</td>\n",
       "      <td>6.054817</td>\n",
       "      <td>...</td>\n",
       "      <td>0.192211</td>\n",
       "      <td>10757.640439</td>\n",
       "      <td>0.913581</td>\n",
       "      <td>0.417002</td>\n",
       "      <td>0.955814</td>\n",
       "      <td>7.043805e-38</td>\n",
       "      <td>0.034074</td>\n",
       "      <td>0.000097</td>\n",
       "      <td>-0.023425</td>\n",
       "      <td>3.482068</td>\n",
       "    </tr>\n",
       "    <tr>\n",
       "      <th>2019-05-06 15:57:50</th>\n",
       "      <td>1</td>\n",
       "      <td>2019-05-06 15:57:50</td>\n",
       "      <td>2019-05-06 15:58:55</td>\n",
       "      <td>2019-05-06 16:28:30</td>\n",
       "      <td>2019-05-06 16:34:05</td>\n",
       "      <td>36.250000</td>\n",
       "      <td>1485.0</td>\n",
       "      <td>10.998796</td>\n",
       "      <td>6.667322</td>\n",
       "      <td>3.253885</td>\n",
       "      <td>...</td>\n",
       "      <td>0.279212</td>\n",
       "      <td>8602.777835</td>\n",
       "      <td>0.903481</td>\n",
       "      <td>0.463023</td>\n",
       "      <td>0.950516</td>\n",
       "      <td>1.035180e-34</td>\n",
       "      <td>0.036628</td>\n",
       "      <td>0.000076</td>\n",
       "      <td>-0.016101</td>\n",
       "      <td>3.225984</td>\n",
       "    </tr>\n",
       "    <tr>\n",
       "      <th>2019-05-06 16:44:20</th>\n",
       "      <td>2</td>\n",
       "      <td>2019-05-06 16:44:20</td>\n",
       "      <td>2019-05-06 16:45:40</td>\n",
       "      <td>2019-05-06 17:30:50</td>\n",
       "      <td>2019-05-06 17:36:35</td>\n",
       "      <td>52.250000</td>\n",
       "      <td>1485.0</td>\n",
       "      <td>12.343553</td>\n",
       "      <td>7.478319</td>\n",
       "      <td>5.799098</td>\n",
       "      <td>...</td>\n",
       "      <td>0.180719</td>\n",
       "      <td>10090.668350</td>\n",
       "      <td>0.920648</td>\n",
       "      <td>0.414385</td>\n",
       "      <td>0.959504</td>\n",
       "      <td>1.379766e-38</td>\n",
       "      <td>0.033021</td>\n",
       "      <td>0.000099</td>\n",
       "      <td>-0.022913</td>\n",
       "      <td>3.592270</td>\n",
       "    </tr>\n",
       "    <tr>\n",
       "      <th>2019-05-06 17:46:50</th>\n",
       "      <td>3</td>\n",
       "      <td>2019-05-06 17:46:50</td>\n",
       "      <td>2019-05-06 17:48:00</td>\n",
       "      <td>2019-05-06 18:18:25</td>\n",
       "      <td>2019-05-06 18:24:05</td>\n",
       "      <td>37.250000</td>\n",
       "      <td>1485.0</td>\n",
       "      <td>12.755871</td>\n",
       "      <td>7.686582</td>\n",
       "      <td>10.061131</td>\n",
       "      <td>...</td>\n",
       "      <td>0.259862</td>\n",
       "      <td>11365.864102</td>\n",
       "      <td>0.898657</td>\n",
       "      <td>0.542936</td>\n",
       "      <td>0.947975</td>\n",
       "      <td>1.600517e-34</td>\n",
       "      <td>0.037147</td>\n",
       "      <td>0.000104</td>\n",
       "      <td>-0.024566</td>\n",
       "      <td>3.829443</td>\n",
       "    </tr>\n",
       "    <tr>\n",
       "      <th>2019-05-06 18:59:30</th>\n",
       "      <td>4</td>\n",
       "      <td>2019-05-06 18:59:30</td>\n",
       "      <td>2019-05-06 19:00:55</td>\n",
       "      <td>2019-05-06 19:24:25</td>\n",
       "      <td>2019-05-06 19:30:10</td>\n",
       "      <td>30.666667</td>\n",
       "      <td>1485.0</td>\n",
       "      <td>13.081992</td>\n",
       "      <td>7.891386</td>\n",
       "      <td>6.984690</td>\n",
       "      <td>...</td>\n",
       "      <td>0.243260</td>\n",
       "      <td>9784.849085</td>\n",
       "      <td>0.899653</td>\n",
       "      <td>0.570958</td>\n",
       "      <td>0.948500</td>\n",
       "      <td>3.630797e-35</td>\n",
       "      <td>0.036707</td>\n",
       "      <td>0.000075</td>\n",
       "      <td>-0.011106</td>\n",
       "      <td>3.014747</td>\n",
       "    </tr>\n",
       "    <tr>\n",
       "      <th>2019-05-06 19:35:25</th>\n",
       "      <td>5</td>\n",
       "      <td>2019-05-06 19:35:25</td>\n",
       "      <td>2019-05-06 19:36:35</td>\n",
       "      <td>2019-05-06 21:20:10</td>\n",
       "      <td>2019-05-06 21:25:55</td>\n",
       "      <td>110.500000</td>\n",
       "      <td>1485.0</td>\n",
       "      <td>13.413018</td>\n",
       "      <td>8.453610</td>\n",
       "      <td>7.385697</td>\n",
       "      <td>...</td>\n",
       "      <td>0.225832</td>\n",
       "      <td>10266.869351</td>\n",
       "      <td>0.890951</td>\n",
       "      <td>0.584187</td>\n",
       "      <td>0.943902</td>\n",
       "      <td>5.915150e-34</td>\n",
       "      <td>0.038080</td>\n",
       "      <td>0.000083</td>\n",
       "      <td>-0.016230</td>\n",
       "      <td>3.325238</td>\n",
       "    </tr>\n",
       "    <tr>\n",
       "      <th>2019-05-06 21:35:30</th>\n",
       "      <td>6</td>\n",
       "      <td>2019-05-06 21:35:30</td>\n",
       "      <td>2019-05-06 21:36:45</td>\n",
       "      <td>2019-05-06 22:16:45</td>\n",
       "      <td>2019-05-06 22:22:30</td>\n",
       "      <td>47.000000</td>\n",
       "      <td>1485.0</td>\n",
       "      <td>13.684938</td>\n",
       "      <td>8.530150</td>\n",
       "      <td>5.828420</td>\n",
       "      <td>...</td>\n",
       "      <td>0.324291</td>\n",
       "      <td>10399.204068</td>\n",
       "      <td>0.883250</td>\n",
       "      <td>0.649006</td>\n",
       "      <td>0.939814</td>\n",
       "      <td>5.840948e-33</td>\n",
       "      <td>0.039231</td>\n",
       "      <td>0.000125</td>\n",
       "      <td>-0.033418</td>\n",
       "      <td>4.428075</td>\n",
       "    </tr>\n",
       "    <tr>\n",
       "      <th>2019-05-06 22:37:30</th>\n",
       "      <td>7</td>\n",
       "      <td>2019-05-06 22:37:30</td>\n",
       "      <td>2019-05-06 22:38:35</td>\n",
       "      <td>2019-05-06 23:14:15</td>\n",
       "      <td>2019-05-06 23:19:55</td>\n",
       "      <td>42.416667</td>\n",
       "      <td>1485.0</td>\n",
       "      <td>12.958084</td>\n",
       "      <td>7.954074</td>\n",
       "      <td>3.365488</td>\n",
       "      <td>...</td>\n",
       "      <td>0.280286</td>\n",
       "      <td>8544.722298</td>\n",
       "      <td>0.905571</td>\n",
       "      <td>0.551837</td>\n",
       "      <td>0.951615</td>\n",
       "      <td>1.548315e-35</td>\n",
       "      <td>0.035995</td>\n",
       "      <td>0.000065</td>\n",
       "      <td>-0.007028</td>\n",
       "      <td>2.833771</td>\n",
       "    </tr>\n",
       "    <tr>\n",
       "      <th>2019-05-06 23:41:25</th>\n",
       "      <td>8</td>\n",
       "      <td>2019-05-06 23:41:25</td>\n",
       "      <td>2019-05-06 23:42:35</td>\n",
       "      <td>2019-05-07 00:16:55</td>\n",
       "      <td>2019-05-07 00:22:40</td>\n",
       "      <td>41.250000</td>\n",
       "      <td>1485.0</td>\n",
       "      <td>14.949868</td>\n",
       "      <td>9.451883</td>\n",
       "      <td>5.120610</td>\n",
       "      <td>...</td>\n",
       "      <td>0.364606</td>\n",
       "      <td>9777.254461</td>\n",
       "      <td>0.876035</td>\n",
       "      <td>0.672480</td>\n",
       "      <td>0.935967</td>\n",
       "      <td>4.371597e-32</td>\n",
       "      <td>0.040260</td>\n",
       "      <td>0.000114</td>\n",
       "      <td>-0.028851</td>\n",
       "      <td>4.107702</td>\n",
       "    </tr>\n",
       "    <tr>\n",
       "      <th>2019-05-07 00:30:50</th>\n",
       "      <td>9</td>\n",
       "      <td>2019-05-07 00:30:50</td>\n",
       "      <td>2019-05-07 00:31:50</td>\n",
       "      <td>2019-05-07 01:07:55</td>\n",
       "      <td>2019-05-07 01:13:45</td>\n",
       "      <td>42.916667</td>\n",
       "      <td>1485.0</td>\n",
       "      <td>15.882324</td>\n",
       "      <td>10.134258</td>\n",
       "      <td>4.967265</td>\n",
       "      <td>...</td>\n",
       "      <td>0.393592</td>\n",
       "      <td>10144.883122</td>\n",
       "      <td>0.881923</td>\n",
       "      <td>0.658971</td>\n",
       "      <td>0.939108</td>\n",
       "      <td>2.911751e-33</td>\n",
       "      <td>0.039133</td>\n",
       "      <td>0.000124</td>\n",
       "      <td>-0.030795</td>\n",
       "      <td>4.074066</td>\n",
       "    </tr>\n",
       "  </tbody>\n",
       "</table>\n",
       "<p>10 rows × 29 columns</p>\n",
       "</div>"
      ],
      "text/plain": [
       "                     n_lavado  date_selected_start     date_selected_on  \\\n",
       "date_selected_start                                                       \n",
       "2019-05-06 13:53:20         0  2019-05-06 13:53:20  2019-05-06 13:53:20   \n",
       "2019-05-06 15:57:50         1  2019-05-06 15:57:50  2019-05-06 15:58:55   \n",
       "2019-05-06 16:44:20         2  2019-05-06 16:44:20  2019-05-06 16:45:40   \n",
       "2019-05-06 17:46:50         3  2019-05-06 17:46:50  2019-05-06 17:48:00   \n",
       "2019-05-06 18:59:30         4  2019-05-06 18:59:30  2019-05-06 19:00:55   \n",
       "2019-05-06 19:35:25         5  2019-05-06 19:35:25  2019-05-06 19:36:35   \n",
       "2019-05-06 21:35:30         6  2019-05-06 21:35:30  2019-05-06 21:36:45   \n",
       "2019-05-06 22:37:30         7  2019-05-06 22:37:30  2019-05-06 22:38:35   \n",
       "2019-05-06 23:41:25         8  2019-05-06 23:41:25  2019-05-06 23:42:35   \n",
       "2019-05-07 00:30:50         9  2019-05-07 00:30:50  2019-05-07 00:31:50   \n",
       "\n",
       "                       date_selected_off date_selected_finish  \\\n",
       "date_selected_start                                             \n",
       "2019-05-06 13:53:20  2019-05-06 14:27:35  2019-05-06 14:33:25   \n",
       "2019-05-06 15:57:50  2019-05-06 16:28:30  2019-05-06 16:34:05   \n",
       "2019-05-06 16:44:20  2019-05-06 17:30:50  2019-05-06 17:36:35   \n",
       "2019-05-06 17:46:50  2019-05-06 18:18:25  2019-05-06 18:24:05   \n",
       "2019-05-06 18:59:30  2019-05-06 19:24:25  2019-05-06 19:30:10   \n",
       "2019-05-06 19:35:25  2019-05-06 21:20:10  2019-05-06 21:25:55   \n",
       "2019-05-06 21:35:30  2019-05-06 22:16:45  2019-05-06 22:22:30   \n",
       "2019-05-06 22:37:30  2019-05-06 23:14:15  2019-05-06 23:19:55   \n",
       "2019-05-06 23:41:25  2019-05-07 00:16:55  2019-05-07 00:22:40   \n",
       "2019-05-07 00:30:50  2019-05-07 01:07:55  2019-05-07 01:13:45   \n",
       "\n",
       "                     duracion_timestamp  rpm_perfil  vib_1_mean  vib_2_mean  \\\n",
       "date_selected_start                                                           \n",
       "2019-05-06 13:53:20           40.083333      1485.0   12.331561    7.527151   \n",
       "2019-05-06 15:57:50           36.250000      1485.0   10.998796    6.667322   \n",
       "2019-05-06 16:44:20           52.250000      1485.0   12.343553    7.478319   \n",
       "2019-05-06 17:46:50           37.250000      1485.0   12.755871    7.686582   \n",
       "2019-05-06 18:59:30           30.666667      1485.0   13.081992    7.891386   \n",
       "2019-05-06 19:35:25          110.500000      1485.0   13.413018    8.453610   \n",
       "2019-05-06 21:35:30           47.000000      1485.0   13.684938    8.530150   \n",
       "2019-05-06 22:37:30           42.416667      1485.0   12.958084    7.954074   \n",
       "2019-05-06 23:41:25           41.250000      1485.0   14.949868    9.451883   \n",
       "2019-05-07 00:30:50           42.916667      1485.0   15.882324   10.134258   \n",
       "\n",
       "                     vib_1h_mean  ...  vib_4h_std      flow_std     slope  \\\n",
       "date_selected_start               ...                                       \n",
       "2019-05-06 13:53:20     6.054817  ...    0.192211  10757.640439  0.913581   \n",
       "2019-05-06 15:57:50     3.253885  ...    0.279212   8602.777835  0.903481   \n",
       "2019-05-06 16:44:20     5.799098  ...    0.180719  10090.668350  0.920648   \n",
       "2019-05-06 17:46:50    10.061131  ...    0.259862  11365.864102  0.898657   \n",
       "2019-05-06 18:59:30     6.984690  ...    0.243260   9784.849085  0.899653   \n",
       "2019-05-06 19:35:25     7.385697  ...    0.225832  10266.869351  0.890951   \n",
       "2019-05-06 21:35:30     5.828420  ...    0.324291  10399.204068  0.883250   \n",
       "2019-05-06 22:37:30     3.365488  ...    0.280286   8544.722298  0.905571   \n",
       "2019-05-06 23:41:25     5.120610  ...    0.364606   9777.254461  0.876035   \n",
       "2019-05-07 00:30:50     4.967265  ...    0.393592  10144.883122  0.881923   \n",
       "\n",
       "                     intercept   r_value       p_value   std_err        a2  \\\n",
       "date_selected_start                                                          \n",
       "2019-05-06 13:53:20   0.417002  0.955814  7.043805e-38  0.034074  0.000097   \n",
       "2019-05-06 15:57:50   0.463023  0.950516  1.035180e-34  0.036628  0.000076   \n",
       "2019-05-06 16:44:20   0.414385  0.959504  1.379766e-38  0.033021  0.000099   \n",
       "2019-05-06 17:46:50   0.542936  0.947975  1.600517e-34  0.037147  0.000104   \n",
       "2019-05-06 18:59:30   0.570958  0.948500  3.630797e-35  0.036707  0.000075   \n",
       "2019-05-06 19:35:25   0.584187  0.943902  5.915150e-34  0.038080  0.000083   \n",
       "2019-05-06 21:35:30   0.649006  0.939814  5.840948e-33  0.039231  0.000125   \n",
       "2019-05-06 22:37:30   0.551837  0.951615  1.548315e-35  0.035995  0.000065   \n",
       "2019-05-06 23:41:25   0.672480  0.935967  4.371597e-32  0.040260  0.000114   \n",
       "2019-05-07 00:30:50   0.658971  0.939108  2.911751e-33  0.039133  0.000124   \n",
       "\n",
       "                           a1        a0  \n",
       "date_selected_start                      \n",
       "2019-05-06 13:53:20 -0.023425  3.482068  \n",
       "2019-05-06 15:57:50 -0.016101  3.225984  \n",
       "2019-05-06 16:44:20 -0.022913  3.592270  \n",
       "2019-05-06 17:46:50 -0.024566  3.829443  \n",
       "2019-05-06 18:59:30 -0.011106  3.014747  \n",
       "2019-05-06 19:35:25 -0.016230  3.325238  \n",
       "2019-05-06 21:35:30 -0.033418  4.428075  \n",
       "2019-05-06 22:37:30 -0.007028  2.833771  \n",
       "2019-05-06 23:41:25 -0.028851  4.107702  \n",
       "2019-05-07 00:30:50 -0.030795  4.074066  \n",
       "\n",
       "[10 rows x 29 columns]"
      ]
     },
     "execution_count": 272,
     "metadata": {},
     "output_type": "execute_result"
    }
   ],
   "source": [
    "#df_consolidado =  pd.DataFrame(lista_tuples_lavados, columns = ['nro_carga','inicio','fin', 'duracion','a2_sn','a1_sn','a0_sn','r_value_sn','std_err_sn','c0_sn','a2_ss','a1_ss','a0_ss','r_value_ss','std_err_ss','c0_ss'])\n",
    "#df_consolidado =  pd.DataFrame(lista_tuples_lavados, columns = ['nro_lavado','inicio', 'entrada_regimen','salida_regimen','fin' ,'duracion'])\n",
    "\n",
    "df_consolidado =  pd.DataFrame(lista_tuples_lavados, columns = ['n_lavado', 'date_selected_start', 'date_selected_on', 'date_selected_off', 'date_selected_finish', 'duracion_timestamp','rpm_perfil','vib_1_mean','vib_2_mean','vib_1h_mean','vib_2h_mean','vib_3h_mean','vib_4h_mean','flow_mean','vib_1_std','vib_2_std','vib_1h_std','vib_2h_std','vib_3h_std','vib_4h_std','flow_std','slope', 'intercept', 'r_value', 'p_value', 'std_err','a2','a1','a0'])\n",
    "df_consolidado.index = pd.to_datetime(df_consolidado['date_selected_start'], errors = 'coerce')\n",
    "df_consolidado.head(10)"
   ]
  },
  {
   "cell_type": "code",
   "execution_count": 273,
   "id": "received-amplifier",
   "metadata": {},
   "outputs": [],
   "source": [
    "df_consolidado_2 = df_consolidado.loc[(df_consolidado['duracion_timestamp']>20)&(df_consolidado['duracion_timestamp']<50)]"
   ]
  },
  {
   "cell_type": "code",
   "execution_count": 274,
   "id": "postal-parish",
   "metadata": {},
   "outputs": [
    {
     "data": {
      "text/plain": [
       "<AxesSubplot:>"
      ]
     },
     "execution_count": 274,
     "metadata": {},
     "output_type": "execute_result"
    },
    {
     "data": {
      "image/png": "[encoded data removed]",
      "text/plain": [
       "<Figure size 432x288 with 1 Axes>"
      ]
     },
     "metadata": {
      "needs_background": "light"
     },
     "output_type": "display_data"
    }
   ],
   "source": [
    "df_consolidado_2['a2'].hist(bins = 200, range = (-0.0005,0.0005))"
   ]
  },
  {
   "cell_type": "code",
   "execution_count": 275,
   "id": "ready-yellow",
   "metadata": {},
   "outputs": [
    {
     "data": {
      "text/plain": [
       "<AxesSubplot:>"
      ]
     },
     "execution_count": 275,
     "metadata": {},
     "output_type": "execute_result"
    },
    {
     "data": {
      "image/png": "[encoded data removed]",
      "text/plain": [
       "<Figure size 432x288 with 1 Axes>"
      ]
     },
     "metadata": {
      "needs_background": "light"
     },
     "output_type": "display_data"
    }
   ],
   "source": [
    "df_consolidado_2['a1'].hist(bins = 200, range = (-0.2,0.2))"
   ]
  },
  {
   "cell_type": "code",
   "execution_count": 276,
   "id": "direct-mailman",
   "metadata": {},
   "outputs": [
    {
     "data": {
      "text/plain": [
       "<AxesSubplot:>"
      ]
     },
     "execution_count": 276,
     "metadata": {},
     "output_type": "execute_result"
    },
    {
     "data": {
      "image/png": "[encoded data removed]",
      "text/plain": [
       "<Figure size 432x288 with 1 Axes>"
      ]
     },
     "metadata": {
      "needs_background": "light"
     },
     "output_type": "display_data"
    }
   ],
   "source": [
    "df_consolidado_2['a0'].hist(bins = 200, range = (-10,10))"
   ]
  },
  {
   "cell_type": "code",
   "execution_count": 277,
   "id": "portuguese-intention",
   "metadata": {},
   "outputs": [
    {
     "data": {
      "text/plain": [
       "<AxesSubplot:>"
      ]
     },
     "execution_count": 277,
     "metadata": {},
     "output_type": "execute_result"
    },
    {
     "data": {
      "image/png": "[encoded data removed]",
      "text/plain": [
       "<Figure size 432x288 with 1 Axes>"
      ]
     },
     "metadata": {
      "needs_background": "light"
     },
     "output_type": "display_data"
    }
   ],
   "source": [
    "df_consolidado_2['r_value'].hist(bins = 200, range = (0.8,1))"
   ]
  },
  {
   "cell_type": "code",
   "execution_count": 278,
   "id": "straight-southwest",
   "metadata": {},
   "outputs": [
    {
     "data": {
      "text/plain": [
       "<AxesSubplot:>"
      ]
     },
     "execution_count": 278,
     "metadata": {},
     "output_type": "execute_result"
    },
    {
     "data": {
      "image/png": "[encoded data removed]",
      "text/plain": [
       "<Figure size 432x288 with 1 Axes>"
      ]
     },
     "metadata": {
      "needs_background": "light"
     },
     "output_type": "display_data"
    }
   ],
   "source": [
    "df_consolidado_2['std_err'].hist(bins = 200, range = (0,0.1))"
   ]
  },
  {
   "cell_type": "code",
   "execution_count": 279,
   "id": "positive-composite",
   "metadata": {},
   "outputs": [],
   "source": [
    "df_consolidado_2 = df_consolidado.copy()"
   ]
  },
  {
   "cell_type": "code",
   "execution_count": 280,
   "id": "cardiovascular-calculator",
   "metadata": {},
   "outputs": [
    {
     "data": {
      "text/plain": [
       "Index(['n_lavado', 'date_selected_start', 'date_selected_on',\n",
       "       'date_selected_off', 'date_selected_finish', 'duracion_timestamp',\n",
       "       'rpm_perfil', 'vib_1_mean', 'vib_2_mean', 'vib_1h_mean', 'vib_2h_mean',\n",
       "       'vib_3h_mean', 'vib_4h_mean', 'flow_mean', 'vib_1_std', 'vib_2_std',\n",
       "       'vib_1h_std', 'vib_2h_std', 'vib_3h_std', 'vib_4h_std', 'flow_std',\n",
       "       'slope', 'intercept', 'r_value', 'p_value', 'std_err', 'a2', 'a1',\n",
       "       'a0'],\n",
       "      dtype='object')"
      ]
     },
     "execution_count": 280,
     "metadata": {},
     "output_type": "execute_result"
    }
   ],
   "source": [
    "df_consolidado_2.columns"
   ]
  },
  {
   "cell_type": "code",
   "execution_count": 281,
   "id": "intermediate-numbers",
   "metadata": {},
   "outputs": [],
   "source": [
    "df_consolidado_2['date_selected_start'] = pd.to_datetime(df_consolidado_2['date_selected_start'], errors = 'coerce')\n",
    "df_consolidado_2['date_selected_finish'] = pd.to_datetime(df_consolidado_2['date_selected_finish'], errors = 'coerce')\n",
    "df_consolidado_2['date_selected_on'] = pd.to_datetime(df_consolidado_2['date_selected_on'], errors = 'coerce')\n",
    "df_consolidado_2['date_selected_off'] = pd.to_datetime(df_consolidado_2['date_selected_off'], errors = 'coerce')"
   ]
  },
  {
   "cell_type": "code",
   "execution_count": 282,
   "id": "critical-notification",
   "metadata": {},
   "outputs": [],
   "source": [
    "df_consolidado_2['duracion_on'] = (df_consolidado_2['date_selected_on'] - df_consolidado_2['date_selected_start'])\n",
    "df_consolidado_2['duracion_on'] = df_consolidado_2['duracion_on'].apply(lambda x: x.seconds/60)\n",
    "df_consolidado_2['duracion_hold'] = (df_consolidado_2['date_selected_off'] - df_consolidado_2['date_selected_on'])\n",
    "df_consolidado_2['duracion_hold'] = df_consolidado_2['duracion_hold'].apply(lambda x: x.seconds/60)\n",
    "df_consolidado_2['duracion_off'] = (df_consolidado_2['date_selected_finish'] - df_consolidado_2['date_selected_off'])\n",
    "df_consolidado_2['duracion_off'] = df_consolidado_2['duracion_off'].apply(lambda x: x.seconds/60)"
   ]
  },
  {
   "cell_type": "code",
   "execution_count": 283,
   "id": "hungry-employer",
   "metadata": {},
   "outputs": [
    {
     "data": {
      "text/plain": [
       "<AxesSubplot:>"
      ]
     },
     "execution_count": 283,
     "metadata": {},
     "output_type": "execute_result"
    },
    {
     "data": {
      "image/png": "[encoded data removed]",
      "text/plain": [
       "<Figure size 432x288 with 1 Axes>"
      ]
     },
     "metadata": {
      "needs_background": "light"
     },
     "output_type": "display_data"
    }
   ],
   "source": [
    "df_consolidado_2['duracion_on'].hist(bins = 40, range = (0, 3))"
   ]
  },
  {
   "cell_type": "code",
   "execution_count": 284,
   "id": "boxed-metabolism",
   "metadata": {},
   "outputs": [
    {
     "data": {
      "text/plain": [
       "1.25"
      ]
     },
     "execution_count": 284,
     "metadata": {},
     "output_type": "execute_result"
    }
   ],
   "source": [
    "df_consolidado_2['duracion_on'].median()"
   ]
  },
  {
   "cell_type": "code",
   "execution_count": 285,
   "id": "eleven-spelling",
   "metadata": {},
   "outputs": [
    {
     "data": {
      "text/plain": [
       "<AxesSubplot:>"
      ]
     },
     "execution_count": 285,
     "metadata": {},
     "output_type": "execute_result"
    },
    {
     "data": {
      "image/png": "[encoded data removed]",
      "text/plain": [
       "<Figure size 432x288 with 1 Axes>"
      ]
     },
     "metadata": {
      "needs_background": "light"
     },
     "output_type": "display_data"
    }
   ],
   "source": [
    "df_consolidado_2['duracion_hold'].hist(bins = 80, range = (0, 100))"
   ]
  },
  {
   "cell_type": "code",
   "execution_count": 286,
   "id": "rising-smoke",
   "metadata": {},
   "outputs": [
    {
     "data": {
      "text/plain": [
       "30.416666666666668"
      ]
     },
     "execution_count": 286,
     "metadata": {},
     "output_type": "execute_result"
    }
   ],
   "source": [
    "df_consolidado_2['duracion_hold'].median()"
   ]
  },
  {
   "cell_type": "code",
   "execution_count": 287,
   "id": "greatest-anime",
   "metadata": {},
   "outputs": [
    {
     "data": {
      "text/plain": [
       "8.583333333333336"
      ]
     },
     "execution_count": 287,
     "metadata": {},
     "output_type": "execute_result"
    }
   ],
   "source": [
    "df_consolidado_2['duracion_hold'].quantile(0.75) - df_consolidado_2['duracion_hold'].quantile(0.25)"
   ]
  },
  {
   "cell_type": "code",
   "execution_count": 288,
   "id": "coastal-indication",
   "metadata": {},
   "outputs": [
    {
     "data": {
      "text/plain": [
       "23.50719368633939"
      ]
     },
     "execution_count": 288,
     "metadata": {},
     "output_type": "execute_result"
    }
   ],
   "source": [
    "1.348*df_consolidado_2['duracion_hold'].std()"
   ]
  },
  {
   "cell_type": "code",
   "execution_count": 289,
   "id": "secure-nitrogen",
   "metadata": {},
   "outputs": [
    {
     "data": {
      "text/plain": [
       "<AxesSubplot:>"
      ]
     },
     "execution_count": 289,
     "metadata": {},
     "output_type": "execute_result"
    },
    {
     "data": {
      "image/png": "[encoded data removed]",
      "text/plain": [
       "<Figure size 432x288 with 1 Axes>"
      ]
     },
     "metadata": {
      "needs_background": "light"
     },
     "output_type": "display_data"
    }
   ],
   "source": [
    "df_consolidado_2['duracion_off'].hist(bins = 50, range = (4, 8))"
   ]
  },
  {
   "cell_type": "code",
   "execution_count": 290,
   "id": "strategic-district",
   "metadata": {},
   "outputs": [
    {
     "data": {
      "text/plain": [
       "5.75"
      ]
     },
     "execution_count": 290,
     "metadata": {},
     "output_type": "execute_result"
    }
   ],
   "source": [
    "df_consolidado_2['duracion_off'].median()"
   ]
  }
 ],
 "metadata": {
  "kernelspec": {
   "display_name": "Python 3 (ipykernel)",
   "language": "python",
   "name": "python3"
  },
  "language_info": {
   "codemirror_mode": {
    "name": "ipython",
    "version": 3
   },
   "file_extension": ".py",
   "mimetype": "text/x-python",
   "name": "python",
   "nbconvert_exporter": "python",
   "pygments_lexer": "ipython3",
   "version": "3.9.12"
  }
 },
 "nbformat": 4,
 "nbformat_minor": 5
}
